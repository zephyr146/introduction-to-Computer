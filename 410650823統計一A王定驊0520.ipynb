{
  "nbformat": 4,
  "nbformat_minor": 0,
  "metadata": {
    "colab": {
      "name": "410650823統計一A王定驊0520.ipynb",
      "provenance": [],
      "authorship_tag": "ABX9TyOJQ04Cp5B2Ya2wMLCJY7lH",
      "include_colab_link": true
    },
    "kernelspec": {
      "name": "python3",
      "display_name": "Python 3"
    },
    "language_info": {
      "name": "python"
    }
  },
  "cells": [
    {
      "cell_type": "markdown",
      "metadata": {
        "id": "view-in-github",
        "colab_type": "text"
      },
      "source": [
        "<a href=\"https://colab.research.google.com/github/zephyr146/introduction-to-Computer/blob/main/410650823%E7%B5%B1%E8%A8%88%E4%B8%80A%E7%8E%8B%E5%AE%9A%E9%A9%8A0520.ipynb\" target=\"_parent\"><img src=\"https://colab.research.google.com/assets/colab-badge.svg\" alt=\"Open In Colab\"/></a>"
      ]
    },
    {
      "cell_type": "code",
      "execution_count": null,
      "metadata": {
        "colab": {
          "base_uri": "https://localhost:8080/"
        },
        "id": "JqL88X34xzBF",
        "outputId": "4d1406f8-d451-4f0e-aae0-53c4b3990be8"
      },
      "outputs": [
        {
          "output_type": "stream",
          "name": "stdout",
          "text": [
            "金洲勇士現在有的球員陣容= ['Curry', 'Wggins', 'Thompson', 'Looney', 'Green']\n"
          ]
        }
      ],
      "source": [
        "Player = ['Curry','Wggins','Thompson','Looney','Green']\n",
        "print(\"金洲勇士現在有的球員陣容=\",Player)"
      ]
    },
    {
      "cell_type": "code",
      "source": [
        "Fraction = [30,28,22,6,5]\n",
        "first3s = Fraction[:3]\n",
        "first3p = Player[:3]\n",
        "print(\"今天最高的三個得分\",first3s,\"球員分別為\",first3p)"
      ],
      "metadata": {
        "colab": {
          "base_uri": "https://localhost:8080/"
        },
        "id": "NXXj2hGyx67T",
        "outputId": "4d1a912a-a120-4871-bf4f-199dcef67319"
      },
      "execution_count": null,
      "outputs": [
        {
          "output_type": "stream",
          "name": "stdout",
          "text": [
            "今天最高的三個得分 [30, 28, 22] 球員分別為 ['Curry', 'Wggins', 'Thompson']\n"
          ]
        }
      ]
    },
    {
      "cell_type": "code",
      "source": [
        "last2s = Fraction[-2:]\n",
        "last2p = Player[-2:]\n",
        "print(\"今天最低的兩個得分\",last2s,\"球員分別為\",last2p)"
      ],
      "metadata": {
        "colab": {
          "base_uri": "https://localhost:8080/"
        },
        "id": "W6BVVK3px-4M",
        "outputId": "8f1f805e-e9d2-40c9-eeda-dc92c55f0b16"
      },
      "execution_count": null,
      "outputs": [
        {
          "output_type": "stream",
          "name": "stdout",
          "text": [
            "今天最低的兩個得分 [6, 5] 球員分別為 ['Looney', 'Green']\n"
          ]
        }
      ]
    },
    {
      "cell_type": "code",
      "source": [
        "print(\"勇士今天最高得分為\",Player[:1],\"分數為\",max(Fraction))"
      ],
      "metadata": {
        "colab": {
          "base_uri": "https://localhost:8080/"
        },
        "id": "CjcS9wGPyFUk",
        "outputId": "4e42067e-a7b5-4ac6-92c8-a6d7dc16d288"
      },
      "execution_count": null,
      "outputs": [
        {
          "output_type": "stream",
          "name": "stdout",
          "text": [
            "勇士今天最高得分為 ['Curry'] 分數為 30\n"
          ]
        }
      ]
    },
    {
      "cell_type": "code",
      "source": [
        "print(\"勇士今天最低得分為\",Player[-1:],\"分數為\",min(Fraction))"
      ],
      "metadata": {
        "colab": {
          "base_uri": "https://localhost:8080/"
        },
        "id": "MSQB65Xr0DEk",
        "outputId": "a885c7ae-e700-487f-a2a7-7d3b5485c90a"
      },
      "execution_count": null,
      "outputs": [
        {
          "output_type": "stream",
          "name": "stdout",
          "text": [
            "勇士今天最低得分為 ['Green'] 分數為 5\n"
          ]
        }
      ]
    }
  ]
}