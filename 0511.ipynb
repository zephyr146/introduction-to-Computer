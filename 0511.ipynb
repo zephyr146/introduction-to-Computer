{
  "nbformat": 4,
  "nbformat_minor": 0,
  "metadata": {
    "colab": {
      "name": "0511.ipynb",
      "provenance": [],
      "authorship_tag": "ABX9TyOE5VgjiQSlMZwzF8HkKx8B",
      "include_colab_link": true
    },
    "kernelspec": {
      "name": "python3",
      "display_name": "Python 3"
    },
    "language_info": {
      "name": "python"
    }
  },
  "cells": [
    {
      "cell_type": "markdown",
      "metadata": {
        "id": "view-in-github",
        "colab_type": "text"
      },
      "source": [
        "<a href=\"https://colab.research.google.com/github/zephyr146/introduction-to-Computer/blob/main/0511.ipynb\" target=\"_parent\"><img src=\"https://colab.research.google.com/assets/colab-badge.svg\" alt=\"Open In Colab\"/></a>"
      ]
    },
    {
      "cell_type": "code",
      "execution_count": 1,
      "metadata": {
        "colab": {
          "base_uri": "https://localhost:8080/"
        },
        "id": "fzPRlj6Tg5Aa",
        "outputId": "f474e155-6cd6-49f5-f3a3-c2303e2e1c13"
      },
      "outputs": [
        {
          "output_type": "stream",
          "name": "stdout",
          "text": [
            "test\n"
          ]
        }
      ],
      "source": [
        "print(\"test\")"
      ]
    },
    {
      "cell_type": "code",
      "source": [
        "temp = float(input(\"請輸入你的體溫\"))\n",
        "if temp>= 37.5:\n",
        "  print(\"體溫過高!\")\n",
        "elif temp >=37 and temp < 37.4:\n",
        "  print(\"體溫略高!\")\n",
        "elif temp >=34 and temp <37:\n",
        "  print(\"體溫正常\")\n",
        "elif temp <34:\n",
        "  print(\"體溫異常,請重新量測!\")"
      ],
      "metadata": {
        "colab": {
          "base_uri": "https://localhost:8080/"
        },
        "id": "RQ4XcncshI1m",
        "outputId": "c21a9021-ce0b-4297-9a33-79d8b1ed7f93"
      },
      "execution_count": 4,
      "outputs": [
        {
          "output_type": "stream",
          "name": "stdout",
          "text": [
            "請輸入你的體溫33\n",
            "體溫異常,請重新量測!\n"
          ]
        }
      ]
    },
    {
      "cell_type": "code",
      "source": [
        "money = int(input(\"請輸入購物金額:\"))\n",
        "if(money>=10000):\n",
        "  if(money >= 100000):\n",
        "    print(\"八折\",money * 0.8,end=\" 元\\n\")\n",
        "  elif(money >=50000):\n",
        "    print(\"八五折\",money * 0.85,end=\" 元\\n\")\n",
        "  elif(money >=30000):\n",
        "    print(\"九折\",money * 0.9,end=\" 元\\n\")\n",
        "  else:\n",
        "    print(\"九五折\",money * 0.95,end=\" 元\\n\")\n",
        "else:\n",
        "  print(\"沒打折\",money,end=\" 元\\n\")\n",
        "\n"
      ],
      "metadata": {
        "colab": {
          "base_uri": "https://localhost:8080/"
        },
        "id": "bduQPBv4lSYZ",
        "outputId": "1edca813-2516-414e-9790-2ba9f2401637"
      },
      "execution_count": 13,
      "outputs": [
        {
          "output_type": "stream",
          "name": "stdout",
          "text": [
            "請輸入購物金額:50000\n",
            "八五折 42500.0 元\n"
          ]
        }
      ]
    },
    {
      "cell_type": "code",
      "source": [
        "grade = int(input(\"請輸入你的成績:\"))\n",
        "if(grade >= 90):\n",
        "    print(\"A\")\n",
        "elif(grade >= 80):\n",
        "    print(\"B\")\n",
        "elif(grade >= 70):\n",
        "    print(\"C\")\n",
        "elif(grade >= 60):\n",
        "    print(\"D\")\n",
        "else:\n",
        "  print(\"E\")"
      ],
      "metadata": {
        "colab": {
          "base_uri": "https://localhost:8080/"
        },
        "id": "AQQeeW8urcrp",
        "outputId": "552e1930-1c9f-46d6-be5b-926da8a4a7bc"
      },
      "execution_count": 24,
      "outputs": [
        {
          "output_type": "stream",
          "name": "stdout",
          "text": [
            "請輸入你的成績:65\n",
            "D\n"
          ]
        }
      ]
    },
    {
      "cell_type": "code",
      "source": [
        "month = int(input(\"請輸入月份:\"))\n",
        "if(month == 3 or month == 4 or month == 5):\n",
        "  print(month,end=\" 月是春天!\\n\")\n",
        "elif(month == 6 or month == 7 or month == 8):\n",
        "  print(month,end=\" 月是夏天!\\n\")\n",
        "elif(month == 9 or month == 10 or month == 11):\n",
        "  print(month,end=\" 月是秋天!\\n\")\n",
        "elif(month == 12 or month == 1 or month == 2):\n",
        "  print(month,end=\" 月是冬天!\\n\")\n",
        "else:\n",
        "  print(\"月份不再範圍內!\")"
      ],
      "metadata": {
        "colab": {
          "base_uri": "https://localhost:8080/"
        },
        "id": "PndSHvzKuOt5",
        "outputId": "05441205-eda3-4596-ca77-9837dcfedaad"
      },
      "execution_count": 49,
      "outputs": [
        {
          "output_type": "stream",
          "name": "stdout",
          "text": [
            "請輸入月份:9\n",
            "9 月是秋天!\n"
          ]
        }
      ]
    },
    {
      "cell_type": "code",
      "source": [
        "income = int(input(\"請輸入今年收入淨額:\"))\n",
        "if(income >= 2000000):\n",
        "  print(\"付稅金額:\",income * 0.3,end=\"元\\n\")\n",
        "elif(income >= 1000000):\n",
        "  print(\"付稅金額:\",income * 0.21,end=\"元\\n\")\n",
        "elif(income >= 600000):\n",
        "  print(\"付稅金額:\",income * 0.13,end=\"元\\n\")\n",
        "elif(income >= 300000):\n",
        "  print(\"付稅金額:\",income * 0.06,end=\"元\\n\")\n",
        "else:\n",
        "  print(\"付稅金額:\",income * 0,end=\"元\\n\")\n",
        "\n"
      ],
      "metadata": {
        "colab": {
          "base_uri": "https://localhost:8080/"
        },
        "id": "aLiP3e0XxFRs",
        "outputId": "b50a11bc-1264-471d-eaed-ef92d722a4e9"
      },
      "execution_count": 40,
      "outputs": [
        {
          "output_type": "stream",
          "name": "stdout",
          "text": [
            "請輸入今年收入淨額:10000\n",
            "付稅金額: 0元\n"
          ]
        }
      ]
    }
  ]
}